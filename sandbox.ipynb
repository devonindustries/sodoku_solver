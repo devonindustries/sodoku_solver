{
 "cells": [
  {
   "cell_type": "code",
   "execution_count": 1,
   "metadata": {},
   "outputs": [],
   "source": [
    "from solver import *"
   ]
  },
  {
   "cell_type": "code",
   "execution_count": 2,
   "metadata": {},
   "outputs": [
    {
     "data": {
      "text/plain": [
       "array([[33, 34, 35],\n",
       "       [42, 43, 44],\n",
       "       [51, 52, 53]])"
      ]
     },
     "execution_count": 2,
     "metadata": {},
     "output_type": "execute_result"
    }
   ],
   "source": [
    "# Box Selector\n",
    "n = 5\n",
    "np.arange(81).reshape((9,9))[3*floor(n/3):3*floor(n/3)+3, (3*n)%9:(3*n)%9 + 3]"
   ]
  },
  {
   "cell_type": "code",
   "execution_count": 3,
   "metadata": {},
   "outputs": [
    {
     "data": {
      "text/plain": [
       "array([[ 0,  1,  2,  3,  4,  5,  6,  7,  8],\n",
       "       [ 9, 10, 11, 12, 13, 14, 15, 16, 17],\n",
       "       [18, 19, 20, 21, 22, 23, 24, 25, 26],\n",
       "       [27, 28, 29, 30, 31, 32, 33, 34, 35],\n",
       "       [36, 37, 38, 39, 40, 41, 42, 43, 44],\n",
       "       [45, 46, 47, 48, 49, 50, 51, 52, 53],\n",
       "       [54, 55, 56, 57, 58, 59, 60, 61, 62],\n",
       "       [63, 64, 65, 66, 67, 68, 69, 70, 71],\n",
       "       [72, 73, 74, 75, 76, 77, 78, 79, 80]])"
      ]
     },
     "execution_count": 3,
     "metadata": {},
     "output_type": "execute_result"
    }
   ],
   "source": [
    "np.arange(81).reshape((9,9))"
   ]
  },
  {
   "cell_type": "code",
   "execution_count": 4,
   "metadata": {},
   "outputs": [
    {
     "data": {
      "text/plain": [
       "array([[0., 3., 7., 0., 0., 5., 0., 6., 9.],\n",
       "       [5., 0., 8., 4., 0., 6., 0., 0., 1.],\n",
       "       [4., 9., 1., 3., 0., 0., 8., 0., 0.],\n",
       "       [0., 0., 0., 0., 0., 0., 3., 8., 0.],\n",
       "       [3., 0., 0., 0., 0., 4., 0., 0., 5.],\n",
       "       [0., 0., 0., 0., 1., 0., 0., 2., 4.],\n",
       "       [0., 0., 0., 1., 0., 0., 0., 0., 0.],\n",
       "       [0., 1., 6., 0., 0., 9., 0., 0., 0.],\n",
       "       [0., 7., 4., 0., 0., 0., 0., 9., 0.]])"
      ]
     },
     "execution_count": 4,
     "metadata": {},
     "output_type": "execute_result"
    }
   ],
   "source": [
    "sodoku = generate_sodoku()\n",
    "sodoku"
   ]
  },
  {
   "cell_type": "code",
   "execution_count": 5,
   "metadata": {},
   "outputs": [
    {
     "name": "stdout",
     "output_type": "stream",
     "text": [
      "0 {8, 1, 2}\n",
      "3 set()\n",
      "3 {2}\n",
      "4 set()\n",
      "4 {4}\n",
      "6 set()\n",
      "6 {1}\n",
      "10 set()\n",
      "10 {2}\n",
      "13 set()\n",
      "13 {9, 3, 7}\n",
      "15 set()\n",
      "15 {7}\n",
      "16 set()\n",
      "16 {3}\n",
      "22 set()\n",
      "22 {2, 5, 6, 7}\n",
      "23 set()\n",
      "23 {7}\n",
      "25 set()\n",
      "25 {5}\n",
      "26 set()\n",
      "26 {6}\n",
      "27 set()\n",
      "27 {1, 2, 6, 7, 9}\n",
      "28 set()\n",
      "28 {4, 5, 6}\n",
      "29 set()\n",
      "29 {9, 2, 5}\n",
      "30 set()\n",
      "30 {5, 6, 7}\n",
      "31 set()\n",
      "31 {6, 7}\n",
      "32 set()\n",
      "32 {2}\n",
      "35 set()\n",
      "35 {7}\n",
      "37 set()\n",
      "37 {8, 6}\n",
      "38 set()\n",
      "38 {2}\n",
      "39 set()\n",
      "39 {9, 6, 7}\n",
      "40 set()\n",
      "40 {7}\n",
      "42 set()\n",
      "42 {6}\n",
      "43 set()\n",
      "43 {1}\n",
      "45 set()\n",
      "45 {9, 6, 7}\n",
      "46 set()\n",
      "46 {5, 6}\n",
      "47 set()\n",
      "47 {3}\n",
      "48 set()\n",
      "48 {8, 6, 7}\n",
      "50 set()\n",
      "50 set()\n",
      "48 {6, 7}\n",
      "48 {6, 7}\n",
      "50 set()\n",
      "50 {8}\n",
      "51 set()\n",
      "51 set()\n",
      "48 {7}\n",
      "48 {7}\n",
      "50 set()\n",
      "50 set()\n",
      "46 {6}\n",
      "46 {6}\n",
      "47 set()\n",
      "47 {5}\n",
      "48 set()\n",
      "48 set()\n",
      "45 {6, 7}\n",
      "45 {6, 7}\n",
      "46 set()\n",
      "46 set()\n",
      "45 {7}\n",
      "45 {7}\n",
      "46 set()\n",
      "46 set()\n",
      "39 {6, 7}\n",
      "39 {6, 7}\n",
      "40 set()\n",
      "40 set()\n",
      "39 {7}\n",
      "39 {7}\n",
      "40 set()\n",
      "40 set()\n",
      "37 {6}\n",
      "37 {6}\n",
      "38 set()\n",
      "38 set()\n",
      "31 {7}\n",
      "31 {7}\n",
      "32 set()\n",
      "32 set()\n",
      "30 {6, 7}\n",
      "30 {6, 7}\n",
      "31 set()\n",
      "31 {5}\n",
      "32 set()\n",
      "32 set()\n",
      "30 {7}\n",
      "30 {7}\n",
      "31 set()\n",
      "31 {6}\n",
      "32 set()\n",
      "32 set()\n",
      "29 {2, 5}\n",
      "29 {2, 5}\n",
      "30 set()\n",
      "30 {9, 5}\n",
      "31 set()\n",
      "31 {5}\n",
      "32 set()\n",
      "32 set()\n",
      "30 {5}\n",
      "30 {5}\n",
      "31 set()\n",
      "31 {6}\n",
      "32 set()\n",
      "32 set()\n",
      "29 {5}\n",
      "29 {5}\n",
      "30 set()\n",
      "30 {9}\n",
      "31 set()\n",
      "31 set()\n",
      "28 {5, 6}\n",
      "28 {5, 6}\n",
      "29 set()\n",
      "29 set()\n",
      "28 {6}\n",
      "28 {6}\n",
      "29 set()\n",
      "29 set()\n",
      "27 {2, 6, 7, 9}\n",
      "27 {2, 6, 7, 9}\n",
      "28 set()\n",
      "28 {4}\n",
      "29 set()\n",
      "29 set()\n",
      "27 {6, 7, 9}\n",
      "27 {6, 7, 9}\n",
      "28 set()\n",
      "28 set()\n",
      "27 {7, 9}\n",
      "27 {7, 9}\n",
      "28 set()\n",
      "28 set()\n",
      "27 {9}\n",
      "27 {9}\n",
      "28 set()\n",
      "28 set()\n",
      "22 {5, 6, 7}\n",
      "22 {5, 6, 7}\n",
      "23 set()\n",
      "23 set()\n",
      "22 {6, 7}\n",
      "22 {6, 7}\n",
      "23 set()\n",
      "23 set()\n",
      "22 {7}\n",
      "22 {7}\n",
      "23 set()\n",
      "23 set()\n",
      "13 {3, 7}\n",
      "13 {3, 7}\n",
      "15 set()\n",
      "15 {9}\n",
      "16 set()\n",
      "16 {7}\n",
      "22 set()\n",
      "22 {2}\n",
      "23 set()\n",
      "23 set()\n",
      "13 {7}\n",
      "13 {7}\n",
      "15 set()\n",
      "15 set()\n",
      "0 {1, 2}\n",
      "0 {1, 2}\n",
      "3 set()\n",
      "3 {8}\n",
      "4 set()\n",
      "4 set()\n",
      "0 {2}\n",
      "0 {2}\n",
      "3 set()\n",
      "3 set()\n"
     ]
    },
    {
     "ename": "KeyboardInterrupt",
     "evalue": "",
     "output_type": "error",
     "traceback": [
      "\u001b[1;31m---------------------------------------------------------------------------\u001b[0m",
      "\u001b[1;31mKeyboardInterrupt\u001b[0m                         Traceback (most recent call last)",
      "\u001b[1;32m<ipython-input-5-413668095024>\u001b[0m in \u001b[0;36m<module>\u001b[1;34m\u001b[0m\n\u001b[1;32m----> 1\u001b[1;33m \u001b[0msolver\u001b[0m\u001b[1;33m(\u001b[0m\u001b[0msodoku\u001b[0m\u001b[1;33m)\u001b[0m\u001b[1;33m\u001b[0m\u001b[1;33m\u001b[0m\u001b[0m\n\u001b[0m",
      "\u001b[1;32mc:\\Users\\jdbak\\Documents\\GitHub\\sodoku\\solver.py\u001b[0m in \u001b[0;36msolver\u001b[1;34m(sodoku)\u001b[0m\n\u001b[0;32m     50\u001b[0m             \u001b[1;31m# 1. Go back to the previous cell containing solutions\u001b[0m\u001b[1;33m\u001b[0m\u001b[1;33m\u001b[0m\u001b[1;33m\u001b[0m\u001b[0m\n\u001b[0;32m     51\u001b[0m             \u001b[1;32mwhile\u001b[0m \u001b[0mlen\u001b[0m\u001b[1;33m(\u001b[0m\u001b[0msolutions\u001b[0m\u001b[1;33m[\u001b[0m\u001b[0mcell\u001b[0m\u001b[1;33m]\u001b[0m\u001b[1;33m)\u001b[0m \u001b[1;33m==\u001b[0m \u001b[1;36m0\u001b[0m\u001b[1;33m:\u001b[0m\u001b[1;33m\u001b[0m\u001b[1;33m\u001b[0m\u001b[0m\n\u001b[1;32m---> 52\u001b[1;33m                 \u001b[0mind\u001b[0m \u001b[1;33m=\u001b[0m \u001b[0mlist\u001b[0m\u001b[1;33m(\u001b[0m\u001b[0msolutions\u001b[0m\u001b[1;33m.\u001b[0m\u001b[0mkeys\u001b[0m\u001b[1;33m(\u001b[0m\u001b[1;33m)\u001b[0m\u001b[1;33m)\u001b[0m\u001b[1;33m.\u001b[0m\u001b[0mindex\u001b[0m\u001b[1;33m(\u001b[0m\u001b[0mcell\u001b[0m\u001b[1;33m)\u001b[0m \u001b[1;33m-\u001b[0m \u001b[1;36m1\u001b[0m\u001b[1;33m\u001b[0m\u001b[1;33m\u001b[0m\u001b[0m\n\u001b[0m\u001b[0;32m     53\u001b[0m                 \u001b[0mcell\u001b[0m \u001b[1;33m=\u001b[0m \u001b[0mlist\u001b[0m\u001b[1;33m(\u001b[0m\u001b[0msolutions\u001b[0m\u001b[1;33m.\u001b[0m\u001b[0mkeys\u001b[0m\u001b[1;33m(\u001b[0m\u001b[1;33m)\u001b[0m\u001b[1;33m)\u001b[0m\u001b[1;33m[\u001b[0m\u001b[0mind\u001b[0m\u001b[1;33m]\u001b[0m\u001b[1;33m\u001b[0m\u001b[1;33m\u001b[0m\u001b[0m\n\u001b[0;32m     54\u001b[0m \u001b[1;33m\u001b[0m\u001b[0m\n",
      "\u001b[1;31mKeyboardInterrupt\u001b[0m: "
     ]
    }
   ],
   "source": [
    "solver(sodoku)"
   ]
  },
  {
   "cell_type": "code",
   "execution_count": null,
   "metadata": {},
   "outputs": [],
   "source": []
  }
 ],
 "metadata": {
  "interpreter": {
   "hash": "c6a70b3c5795111a59995267ae0f7678629ed9e6ac846cc9a477a9c4d29cc651"
  },
  "kernelspec": {
   "display_name": "Python 3.7.6 64-bit ('base': conda)",
   "name": "python3"
  },
  "language_info": {
   "codemirror_mode": {
    "name": "ipython",
    "version": 3
   },
   "file_extension": ".py",
   "mimetype": "text/x-python",
   "name": "python",
   "nbconvert_exporter": "python",
   "pygments_lexer": "ipython3",
   "version": "3.7.6"
  }
 },
 "nbformat": 4,
 "nbformat_minor": 2
}
