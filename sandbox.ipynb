{
 "cells": [
  {
   "cell_type": "code",
   "execution_count": 1,
   "metadata": {},
   "outputs": [],
   "source": [
    "from solver import *"
   ]
  },
  {
   "cell_type": "code",
   "execution_count": 30,
   "metadata": {},
   "outputs": [],
   "source": [
    "#--------\n",
    "# Useful Code\n",
    "#--------\n",
    "\n",
    "# Box Selector\n",
    "#n = 5\n",
    "#np.arange(81).reshape((9,9))[3*floor(n/3):3*floor(n/3)+3, (3*n)%9:(3*n)%9 + 3]\n",
    "\n",
    "# Array Indexer\n",
    "#np.arange(81).reshape((9,9))"
   ]
  },
  {
   "cell_type": "code",
   "execution_count": 38,
   "metadata": {},
   "outputs": [
    {
     "data": {
      "text/plain": [
       "array([[0., 1., 0., 0., 0., 0., 0., 2., 0.],\n",
       "       [3., 7., 9., 2., 0., 0., 0., 0., 0.],\n",
       "       [6., 0., 4., 0., 0., 0., 3., 0., 5.],\n",
       "       [0., 0., 0., 0., 2., 0., 0., 0., 0.],\n",
       "       [0., 3., 5., 6., 1., 0., 4., 9., 0.],\n",
       "       [0., 0., 0., 0., 7., 0., 1., 0., 0.],\n",
       "       [1., 6., 2., 0., 0., 0., 5., 0., 0.],\n",
       "       [9., 0., 3., 1., 4., 8., 7., 0., 2.],\n",
       "       [0., 0., 0., 0., 0., 0., 0., 0., 0.]])"
      ]
     },
     "execution_count": 38,
     "metadata": {},
     "output_type": "execute_result"
    }
   ],
   "source": [
    "sodoku = generate_sodoku()\n",
    "sodoku"
   ]
  },
  {
   "cell_type": "code",
   "execution_count": 39,
   "metadata": {},
   "outputs": [
    {
     "data": {
      "text/plain": [
       "array([[0., 1., 0., 0., 0., 0., 0., 2., 0.],\n",
       "       [3., 7., 9., 2., 0., 0., 0., 0., 0.],\n",
       "       [6., 0., 4., 0., 0., 0., 3., 0., 5.],\n",
       "       [0., 0., 0., 0., 2., 0., 0., 0., 0.],\n",
       "       [0., 3., 5., 6., 1., 0., 4., 9., 0.],\n",
       "       [0., 0., 0., 0., 7., 0., 1., 0., 0.],\n",
       "       [1., 6., 2., 0., 0., 0., 5., 0., 0.],\n",
       "       [9., 0., 3., 1., 4., 8., 7., 0., 2.],\n",
       "       [0., 0., 0., 0., 0., 0., 0., 0., 1.]])"
      ]
     },
     "execution_count": 39,
     "metadata": {},
     "output_type": "execute_result"
    }
   ],
   "source": [
    "solver(sodoku)"
   ]
  },
  {
   "cell_type": "code",
   "execution_count": 10,
   "metadata": {},
   "outputs": [],
   "source": [
    "sodoku = np.array([\n",
    "    [0,0,5,8,0,0,9,0,6],\n",
    "    [2,7,6,3,0,0,0,0,0],\n",
    "    [0,0,0,0,0,0,0,0,0],\n",
    "    [1,0,0,4,2,0,0,0,0],\n",
    "    [0,0,0,0,1,0,3,0,2],\n",
    "    [0,0,4,0,0,0,0,9,0],\n",
    "    [0,0,0,0,0,0,0,8,0],\n",
    "    [0,0,0,5,9,8,7,0,0],\n",
    "    [3,0,0,0,0,0,0,1,0]\n",
    "])"
   ]
  },
  {
   "cell_type": "code",
   "execution_count": 11,
   "metadata": {},
   "outputs": [
    {
     "data": {
      "text/plain": [
       "array([[4, 3, 5, 8, 7, 1, 9, 2, 6],\n",
       "       [2, 7, 6, 3, 4, 9, 8, 5, 1],\n",
       "       [9, 8, 1, 2, 5, 6, 4, 7, 3],\n",
       "       [1, 9, 3, 4, 2, 7, 5, 6, 8],\n",
       "       [8, 6, 7, 9, 1, 5, 3, 4, 2],\n",
       "       [5, 2, 4, 6, 8, 3, 1, 9, 7],\n",
       "       [7, 4, 9, 1, 3, 2, 6, 8, 5],\n",
       "       [6, 1, 2, 5, 9, 8, 7, 3, 4],\n",
       "       [3, 5, 8, 7, 6, 4, 2, 1, 9]])"
      ]
     },
     "execution_count": 11,
     "metadata": {},
     "output_type": "execute_result"
    }
   ],
   "source": [
    "solver(sodoku)"
   ]
  },
  {
   "cell_type": "code",
   "execution_count": null,
   "metadata": {},
   "outputs": [],
   "source": []
  }
 ],
 "metadata": {
  "interpreter": {
   "hash": "c6a70b3c5795111a59995267ae0f7678629ed9e6ac846cc9a477a9c4d29cc651"
  },
  "kernelspec": {
   "display_name": "Python 3",
   "language": "python",
   "name": "python3"
  },
  "language_info": {
   "codemirror_mode": {
    "name": "ipython",
    "version": 3
   },
   "file_extension": ".py",
   "mimetype": "text/x-python",
   "name": "python",
   "nbconvert_exporter": "python",
   "pygments_lexer": "ipython3",
   "version": "3.6.6+"
  }
 },
 "nbformat": 4,
 "nbformat_minor": 2
}
