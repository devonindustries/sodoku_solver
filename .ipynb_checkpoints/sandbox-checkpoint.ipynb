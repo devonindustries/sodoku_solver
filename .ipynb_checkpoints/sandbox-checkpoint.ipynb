{
 "cells": [
  {
   "cell_type": "code",
   "execution_count": 1,
   "metadata": {},
   "outputs": [],
   "source": [
    "from solver import *"
   ]
  },
  {
   "cell_type": "code",
   "execution_count": 2,
   "metadata": {},
   "outputs": [
    {
     "data": {
      "text/plain": [
       "array([[33, 34, 35],\n",
       "       [42, 43, 44],\n",
       "       [51, 52, 53]])"
      ]
     },
     "execution_count": 2,
     "metadata": {},
     "output_type": "execute_result"
    }
   ],
   "source": [
    "# Box Selector\n",
    "n = 5\n",
    "np.arange(81).reshape((9,9))[3*floor(n/3):3*floor(n/3)+3, (3*n)%9:(3*n)%9 + 3]"
   ]
  },
  {
   "cell_type": "code",
   "execution_count": 3,
   "metadata": {},
   "outputs": [
    {
     "data": {
      "text/plain": [
       "array([[ 0,  1,  2,  3,  4,  5,  6,  7,  8],\n",
       "       [ 9, 10, 11, 12, 13, 14, 15, 16, 17],\n",
       "       [18, 19, 20, 21, 22, 23, 24, 25, 26],\n",
       "       [27, 28, 29, 30, 31, 32, 33, 34, 35],\n",
       "       [36, 37, 38, 39, 40, 41, 42, 43, 44],\n",
       "       [45, 46, 47, 48, 49, 50, 51, 52, 53],\n",
       "       [54, 55, 56, 57, 58, 59, 60, 61, 62],\n",
       "       [63, 64, 65, 66, 67, 68, 69, 70, 71],\n",
       "       [72, 73, 74, 75, 76, 77, 78, 79, 80]])"
      ]
     },
     "execution_count": 3,
     "metadata": {},
     "output_type": "execute_result"
    }
   ],
   "source": [
    "np.arange(81).reshape((9,9))"
   ]
  },
  {
   "cell_type": "code",
   "execution_count": 7,
   "metadata": {},
   "outputs": [
    {
     "data": {
      "text/plain": [
       "array([[0., 0., 0., 0., 0., 0., 0., 0., 3.],\n",
       "       [0., 0., 0., 0., 0., 6., 9., 0., 0.],\n",
       "       [0., 2., 0., 0., 9., 0., 0., 0., 4.],\n",
       "       [2., 3., 0., 0., 0., 9., 0., 0., 0.],\n",
       "       [0., 6., 8., 0., 2., 0., 3., 7., 0.],\n",
       "       [0., 9., 1., 0., 3., 0., 0., 4., 5.],\n",
       "       [0., 7., 6., 8., 0., 0., 0., 5., 0.],\n",
       "       [8., 1., 3., 0., 0., 4., 6., 9., 0.],\n",
       "       [5., 0., 0., 0., 0., 0., 0., 0., 0.]])"
      ]
     },
     "execution_count": 7,
     "metadata": {},
     "output_type": "execute_result"
    }
   ],
   "source": [
    "sodoku = generate_sodoku()\n",
    "sodoku"
   ]
  },
  {
   "cell_type": "code",
   "execution_count": 8,
   "metadata": {},
   "outputs": [
    {
     "data": {
      "text/plain": [
       "array([[1., 8., 9., 5., 4., 2., 7., 6., 3.],\n",
       "       [3., 5., 4., 7., 8., 6., 9., 2., 1.],\n",
       "       [6., 2., 7., 3., 9., 1., 5., 8., 4.],\n",
       "       [2., 3., 5., 4., 7., 9., 8., 1., 6.],\n",
       "       [4., 6., 8., 1., 2., 5., 3., 7., 9.],\n",
       "       [7., 9., 1., 6., 3., 8., 2., 4., 5.],\n",
       "       [9., 7., 6., 8., 1., 3., 4., 5., 2.],\n",
       "       [8., 1., 3., 2., 5., 4., 6., 9., 7.],\n",
       "       [5., 4., 2., 9., 6., 7., 1., 3., 8.]])"
      ]
     },
     "execution_count": 8,
     "metadata": {},
     "output_type": "execute_result"
    }
   ],
   "source": [
    "solver(sodoku)"
   ]
  },
  {
   "cell_type": "code",
   "execution_count": null,
   "metadata": {},
   "outputs": [],
   "source": []
  }
 ],
 "metadata": {
  "interpreter": {
   "hash": "c6a70b3c5795111a59995267ae0f7678629ed9e6ac846cc9a477a9c4d29cc651"
  },
  "kernelspec": {
   "display_name": "Python 3",
   "language": "python",
   "name": "python3"
  },
  "language_info": {
   "codemirror_mode": {
    "name": "ipython",
    "version": 3
   },
   "file_extension": ".py",
   "mimetype": "text/x-python",
   "name": "python",
   "nbconvert_exporter": "python",
   "pygments_lexer": "ipython3",
   "version": "3.6.6+"
  }
 },
 "nbformat": 4,
 "nbformat_minor": 2
}
