{
 "cells": [
  {
   "cell_type": "code",
   "execution_count": 1,
   "metadata": {},
   "outputs": [],
   "source": [
    "from solver import *"
   ]
  },
  {
   "cell_type": "code",
   "execution_count": 2,
   "metadata": {},
   "outputs": [],
   "source": [
    "#--------\n",
    "# Useful Code\n",
    "#--------\n",
    "\n",
    "# Box Selector\n",
    "#n = 5\n",
    "#np.arange(81).reshape((9,9))[3*floor(n/3):3*floor(n/3)+3, (3*n)%9:(3*n)%9 + 3]\n",
    "\n",
    "# Array Indexer\n",
    "#np.arange(81).reshape((9,9))"
   ]
  },
  {
   "cell_type": "code",
   "execution_count": 3,
   "metadata": {},
   "outputs": [
    {
     "data": {
      "text/plain": [
       "array([[0., 0., 7., 0., 0., 6., 0., 0., 0.],\n",
       "       [4., 0., 0., 0., 0., 0., 6., 0., 0.],\n",
       "       [5., 0., 8., 0., 2., 0., 0., 0., 0.],\n",
       "       [0., 0., 0., 0., 0., 0., 7., 6., 5.],\n",
       "       [0., 0., 4., 0., 0., 0., 3., 2., 0.],\n",
       "       [0., 0., 0., 0., 0., 0., 0., 4., 8.],\n",
       "       [0., 0., 1., 0., 0., 0., 0., 7., 0.],\n",
       "       [0., 0., 2., 9., 0., 0., 0., 0., 0.],\n",
       "       [8., 0., 0., 7., 6., 0., 9., 0., 0.]])"
      ]
     },
     "execution_count": 3,
     "metadata": {},
     "output_type": "execute_result"
    }
   ],
   "source": [
    "sodoku = generate_sodoku(23)\n",
    "sodoku"
   ]
  },
  {
   "cell_type": "code",
   "execution_count": 4,
   "metadata": {},
   "outputs": [
    {
     "data": {
      "text/plain": [
       "array([[1., 9., 7., 8., 4., 6., 2., 5., 3.],\n",
       "       [4., 2., 3., 1., 9., 5., 6., 8., 7.],\n",
       "       [5., 6., 8., 3., 2., 7., 4., 9., 1.],\n",
       "       [2., 8., 9., 4., 1., 3., 7., 6., 5.],\n",
       "       [7., 1., 4., 6., 5., 8., 3., 2., 9.],\n",
       "       [3., 5., 6., 2., 7., 9., 1., 4., 8.],\n",
       "       [9., 4., 1., 5., 3., 2., 8., 7., 6.],\n",
       "       [6., 7., 2., 9., 8., 1., 5., 3., 4.],\n",
       "       [8., 3., 5., 7., 6., 4., 9., 1., 2.]])"
      ]
     },
     "execution_count": 4,
     "metadata": {},
     "output_type": "execute_result"
    }
   ],
   "source": [
    "solver(sodoku)"
   ]
  },
  {
   "cell_type": "code",
   "execution_count": null,
   "metadata": {},
   "outputs": [],
   "source": []
  }
 ],
 "metadata": {
  "interpreter": {
   "hash": "c6a70b3c5795111a59995267ae0f7678629ed9e6ac846cc9a477a9c4d29cc651"
  },
  "kernelspec": {
   "display_name": "Python 3",
   "language": "python",
   "name": "python3"
  },
  "language_info": {
   "codemirror_mode": {
    "name": "ipython",
    "version": 3
   },
   "file_extension": ".py",
   "mimetype": "text/x-python",
   "name": "python",
   "nbconvert_exporter": "python",
   "pygments_lexer": "ipython3",
   "version": "3.6.6+"
  }
 },
 "nbformat": 4,
 "nbformat_minor": 2
}
